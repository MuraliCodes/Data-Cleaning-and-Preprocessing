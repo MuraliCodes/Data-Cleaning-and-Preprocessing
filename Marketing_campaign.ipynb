{
  "nbformat": 4,
  "nbformat_minor": 0,
  "metadata": {
    "colab": {
      "provenance": []
    },
    "kernelspec": {
      "name": "python3",
      "display_name": "Python 3"
    },
    "language_info": {
      "name": "python"
    }
  },
  "cells": [
    {
      "cell_type": "code",
      "execution_count": 10,
      "metadata": {
        "id": "jX6eOa3KkUPe"
      },
      "outputs": [],
      "source": [
        "import pandas as pd\n",
        "import numpy as np\n",
        "\n",
        "df = pd.read_csv(\"marketing_campaign.csv\",sep='\\t')"
      ]
    },
    {
      "cell_type": "code",
      "source": [
        "print(\"Missing values:\\n\",df.isnull().sum())"
      ],
      "metadata": {
        "colab": {
          "base_uri": "https://localhost:8080/"
        },
        "id": "gLsgKZ6Ip8Mz",
        "outputId": "b123b6ea-c70f-4266-9cc2-d5cab0626f3a"
      },
      "execution_count": 11,
      "outputs": [
        {
          "output_type": "stream",
          "name": "stdout",
          "text": [
            "Missing values:\n",
            " ID                      0\n",
            "Year_Birth              0\n",
            "Education               0\n",
            "Marital_Status          0\n",
            "Income                 24\n",
            "Kidhome                 0\n",
            "Teenhome                0\n",
            "Dt_Customer             0\n",
            "Recency                 0\n",
            "MntWines                0\n",
            "MntFruits               0\n",
            "MntMeatProducts         0\n",
            "MntFishProducts         0\n",
            "MntSweetProducts        0\n",
            "MntGoldProds            0\n",
            "NumDealsPurchases       0\n",
            "NumWebPurchases         0\n",
            "NumCatalogPurchases     0\n",
            "NumStorePurchases       0\n",
            "NumWebVisitsMonth       0\n",
            "AcceptedCmp3            0\n",
            "AcceptedCmp4            0\n",
            "AcceptedCmp5            0\n",
            "AcceptedCmp1            0\n",
            "AcceptedCmp2            0\n",
            "Complain                0\n",
            "Z_CostContact           0\n",
            "Z_Revenue               0\n",
            "Response                0\n",
            "dtype: int64\n"
          ]
        }
      ]
    },
    {
      "cell_type": "code",
      "source": [
        "df['Income'].fillna(df['Income'].mean(),inplace=True)"
      ],
      "metadata": {
        "colab": {
          "base_uri": "https://localhost:8080/"
        },
        "id": "mZIsDLb5qMgg",
        "outputId": "a303f8ea-b1c7-4ebb-efb1-78cb0d634c93"
      },
      "execution_count": 12,
      "outputs": [
        {
          "output_type": "stream",
          "name": "stderr",
          "text": [
            "<ipython-input-12-da9ca5eb9cb6>:1: FutureWarning: A value is trying to be set on a copy of a DataFrame or Series through chained assignment using an inplace method.\n",
            "The behavior will change in pandas 3.0. This inplace method will never work because the intermediate object on which we are setting values always behaves as a copy.\n",
            "\n",
            "For example, when doing 'df[col].method(value, inplace=True)', try using 'df.method({col: value}, inplace=True)' or df[col] = df[col].method(value) instead, to perform the operation inplace on the original object.\n",
            "\n",
            "\n",
            "  df['Income'].fillna(df['Income'].mean(),inplace=True)\n"
          ]
        }
      ]
    },
    {
      "cell_type": "code",
      "source": [
        "print(df.columns)"
      ],
      "metadata": {
        "colab": {
          "base_uri": "https://localhost:8080/"
        },
        "id": "LB1CLOXstrux",
        "outputId": "9c0b3554-84e5-46e0-8177-5285a5e7552d"
      },
      "execution_count": 22,
      "outputs": [
        {
          "output_type": "stream",
          "name": "stdout",
          "text": [
            "Index(['ID', 'Year_Birth', 'Education', 'Marital_Status', 'Income', 'Kidhome',\n",
            "       'Teenhome', 'Dt_customer', 'Recency', 'MntWines', 'MntFruits',\n",
            "       'MntMeatProducts', 'MntFishProducts', 'MntSweetProducts',\n",
            "       'MntGoldProds', 'NumDealsPurchases', 'NumWebPurchases',\n",
            "       'NumCatalogPurchases', 'NumStorePurchases', 'NumWebVisitsMonth',\n",
            "       'AcceptedCmp3', 'AcceptedCmp4', 'AcceptedCmp5', 'AcceptedCmp1',\n",
            "       'AcceptedCmp2', 'Complain', 'Z_CostContact', 'Z_Revenue', 'Response'],\n",
            "      dtype='object')\n"
          ]
        }
      ]
    },
    {
      "cell_type": "code",
      "source": [
        "#Convert Dt_customer to datetime\n",
        "df['Dt_customer'] = pd.to_datetime(df['Dt_customer'], format='%d-%m-%Y', errors='coerce')"
      ],
      "metadata": {
        "id": "fZYtrcwFr5ar"
      },
      "execution_count": 25,
      "outputs": []
    },
    {
      "cell_type": "code",
      "source": [
        "#Age\n",
        "df['Age'] =2025 - df['Year_Birth']"
      ],
      "metadata": {
        "id": "72sONXiZtzMY"
      },
      "execution_count": 26,
      "outputs": []
    },
    {
      "cell_type": "code",
      "source": [
        "#Total children\n",
        "df['Total_children'] = df['Kidhome']+df['Teenhome']"
      ],
      "metadata": {
        "id": "63wFxL14uGjq"
      },
      "execution_count": 27,
      "outputs": []
    },
    {
      "cell_type": "code",
      "source": [
        "#Total amount spent all products\n",
        "spend_cols = ['MntWines', 'MntFruits', 'MntMeatProducts', 'MntFishProducts', 'MntSweetProducts', 'MntGoldProds']\n",
        "df['Total_spent'] = df[spend_cols].sum(axis=1)"
      ],
      "metadata": {
        "id": "AexCN9WSu2LZ"
      },
      "execution_count": 28,
      "outputs": []
    },
    {
      "cell_type": "code",
      "source": [
        "#Standardize categorical data\n",
        "df['Education'] = df['Education'].str.strip().str.title()\n",
        "df['Marital_Status'] = df['Marital_Status'].replace({\n",
        "    'Alone': 'Single',\n",
        "    'Abusrd': 'Single',\n",
        "    'Widow': 'Single',\n",
        "    'YOLO': 'Single',\n",
        "    'Divorced': 'Single',\n",
        "    'Together': 'Married',\n",
        "}).str.title()"
      ],
      "metadata": {
        "id": "owY-1GDsvLL-"
      },
      "execution_count": 32,
      "outputs": []
    },
    {
      "cell_type": "code",
      "source": [
        "#drop irrevalent or constant columns\n",
        "df.drop(columns=['Z_CostContact','Z_Revenue','ID'],inplace=True)"
      ],
      "metadata": {
        "id": "hAhkckDS0GB0"
      },
      "execution_count": 33,
      "outputs": []
    },
    {
      "cell_type": "code",
      "source": [
        "print(df.head())"
      ],
      "metadata": {
        "colab": {
          "base_uri": "https://localhost:8080/"
        },
        "id": "edAO_5KK1hF8",
        "outputId": "a0bfe791-e4c0-4700-f744-297e1fb45507"
      },
      "execution_count": 34,
      "outputs": [
        {
          "output_type": "stream",
          "name": "stdout",
          "text": [
            "   Year_Birth   Education Marital_Status   Income  Kidhome  Teenhome  \\\n",
            "0        1957  Graduation         Single  58138.0        0         0   \n",
            "1        1954  Graduation         Single  46344.0        1         1   \n",
            "2        1965  Graduation        Married  71613.0        0         0   \n",
            "3        1984  Graduation        Married  26646.0        1         0   \n",
            "4        1981         Phd        Married  58293.0        1         0   \n",
            "\n",
            "  Dt_customer  Recency  MntWines  MntFruits  ...  AcceptedCmp3  AcceptedCmp4  \\\n",
            "0  2012-09-04       58       635         88  ...             0             0   \n",
            "1  2014-03-08       38        11          1  ...             0             0   \n",
            "2  2013-08-21       26       426         49  ...             0             0   \n",
            "3  2014-02-10       26        11          4  ...             0             0   \n",
            "4  2014-01-19       94       173         43  ...             0             0   \n",
            "\n",
            "   AcceptedCmp5  AcceptedCmp1  AcceptedCmp2  Complain  Response  Age  \\\n",
            "0             0             0             0         0         1   68   \n",
            "1             0             0             0         0         0   71   \n",
            "2             0             0             0         0         0   60   \n",
            "3             0             0             0         0         0   41   \n",
            "4             0             0             0         0         0   44   \n",
            "\n",
            "   Total_children  Total_spent  \n",
            "0               0         1617  \n",
            "1               2           27  \n",
            "2               0          776  \n",
            "3               1           53  \n",
            "4               1          422  \n",
            "\n",
            "[5 rows x 29 columns]\n"
          ]
        }
      ]
    }
  ]
}